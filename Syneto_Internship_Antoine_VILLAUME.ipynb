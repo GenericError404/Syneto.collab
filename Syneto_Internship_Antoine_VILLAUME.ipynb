{
  "nbformat": 4,
  "nbformat_minor": 0,
  "metadata": {
    "colab": {
      "name": "Syneto Internship Antoine VILLAUME",
      "version": "0.3.2",
      "provenance": [],
      "collapsed_sections": [],
      "toc_visible": true,
      "include_colab_link": true
    },
    "kernelspec": {
      "display_name": "Python 3",
      "name": "python3"
    }
  },
  "cells": [
    {
      "cell_type": "markdown",
      "metadata": {
        "id": "view-in-github",
        "colab_type": "text"
      },
      "source": [
        "<a href=\"https://colab.research.google.com/github/GenericError404/Syneto.collab/blob/master/Syneto_Internship_Antoine_VILLAUME.ipynb\" target=\"_parent\"><img src=\"https://colab.research.google.com/assets/colab-badge.svg\" alt=\"Open In Colab\"/></a>"
      ]
    },
    {
      "metadata": {
        "cellView": "both",
        "colab_type": "code",
        "id": "xitplqMNk_Hc",
        "outputId": "ed4f60d2-878d-4056-c438-352dac39a112",
        "colab": {
          "height": 420
        }
      },
      "cell_type": "code",
      "source": [
        "#@title Introducing Colaboratory\n",
        "#@markdown This 3-minute video gives an overview of the key features of Colaboratory:\n",
        "from IPython.display import YouTubeVideo\n",
        "YouTubeVideo('inN8seMm7UI', width=600, height=400)"
      ],
      "execution_count": 0,
      "outputs": [
        {
          "output_type": "execute_result",
          "data": {
            "text/html": [
              "\n",
              "        <iframe\n",
              "            width=\"600\"\n",
              "            height=400\"\n",
              "            src=\"https://www.youtube.com/embed/inN8seMm7UI\"\n",
              "            frameborder=\"0\"\n",
              "            allowfullscreen\n",
              "        ></iframe>\n",
              "        "
            ],
            "text/plain": [
              "<IPython.lib.display.YouTubeVideo at 0x7f956e9dda50>"
            ]
          },
          "metadata": {
            "tags": []
          },
          "execution_count": 0
        }
      ]
    },
    {
      "metadata": {
        "id": "cPrRfCJ7Jv5f",
        "colab_type": "text"
      },
      "cell_type": "markdown",
      "source": [
        "Authenticate"
      ]
    },
    {
      "metadata": {
        "id": "hz3jUH3o0Bcs",
        "colab_type": "code",
        "colab": {}
      },
      "cell_type": "code",
      "source": [
        "project_id='mineral-oxide-237010'\n",
        "\n",
        "# Authenticate to GCS.\n",
        "from google.colab import auth\n",
        "from googleapiclient.http import MediaFileUpload\n",
        "\n",
        "auth.authenticate_user()"
      ],
      "execution_count": 0,
      "outputs": []
    },
    {
      "metadata": {
        "id": "HAUIw7lwJ5JP",
        "colab_type": "text"
      },
      "cell_type": "markdown",
      "source": [
        "Import into Google Cloud Storage"
      ]
    },
    {
      "metadata": {
        "id": "-Lxm6AXFyMkJ",
        "colab_type": "code",
        "outputId": "c8a4d987-bfd8-4a93-b3da-0d0b64786b24",
        "colab": {
          "base_uri": "https://localhost:8080/",
          "height": 187
        }
      },
      "cell_type": "code",
      "source": [
        "%%bash\n",
        "gsutil cp gs://colab-sample-bucket01e8ffba-59f3-11e9-8324-0242ac1c0002/*.csv ./\n",
        "ls -la\n"
      ],
      "execution_count": 0,
      "outputs": [
        {
          "output_type": "stream",
          "text": [
            "total 32\n",
            "drwxr-xr-x 1 root root 4096 Apr  8 11:56 .\n",
            "drwxr-xr-x 1 root root 4096 Apr  8 09:33 ..\n",
            "-rw-r--r-- 1 root root   43 Apr  8 11:56 accounts_1.csv\n",
            "-rw-r--r-- 1 root root 2501 Apr  8 10:26 adc.json\n",
            "drwxr-xr-x 1 root root 4096 Apr  8 10:26 .config\n",
            "drwxr-xr-x 1 root root 4096 Apr  4 20:20 sample_data\n"
          ],
          "name": "stdout"
        },
        {
          "output_type": "stream",
          "text": [
            "Copying gs://colab-sample-bucket01e8ffba-59f3-11e9-8324-0242ac1c0002/accounts_1.csv...\n",
            "/ [0 files][    0.0 B/   43.0 B]                                                \r/ [1 files][   43.0 B/   43.0 B]                                                \r\n",
            "Operation completed over 1 objects/43.0 B.                                       \n"
          ],
          "name": "stderr"
        }
      ]
    },
    {
      "metadata": {
        "id": "cPo7wUVVKAVl",
        "colab_type": "text"
      },
      "cell_type": "markdown",
      "source": [
        "Testing file"
      ]
    },
    {
      "metadata": {
        "colab_type": "code",
        "id": "gJr_9dXGpJ05",
        "colab": {}
      },
      "cell_type": "code",
      "source": [
        "try:\n",
        "  file=open('accounts_1.csv', 'r')\n",
        "except:\n",
        "  print('file not exist')\n"
      ],
      "execution_count": 0,
      "outputs": []
    },
    {
      "metadata": {
        "id": "IDkvd5kCKD9I",
        "colab_type": "text"
      },
      "cell_type": "markdown",
      "source": [
        "Display a column"
      ]
    },
    {
      "metadata": {
        "id": "MOp7On8Q6gAj",
        "colab_type": "code",
        "colab": {
          "base_uri": "https://localhost:8080/",
          "height": 119
        },
        "outputId": "4b16355d-7bf2-4081-db20-5d4b8b155750"
      },
      "cell_type": "code",
      "source": [
        "colId=[-1]\n",
        "ligne='x'\n",
        "index=0\n",
        "file=open('accounts_1.csv', 'r')\n",
        "for ligne in file.readlines():\n",
        "  ligne= ligne.split(',')\n",
        "  for i in ligne:\n",
        "    i = i.replace(' ','')\n",
        "    i = i.replace('\\n','')\n",
        "    if i=='amount':\n",
        "      colId[0]=index\n",
        "    index = index+1\n",
        "  if colId[0] > -1:\n",
        "    print(ligne[colId[0]])\n",
        "  else:\n",
        "    print(\"there is no column\")\n"
      ],
      "execution_count": 81,
      "outputs": [
        {
          "output_type": "stream",
          "text": [
            " amount\n",
            "\n",
            " 100\n",
            "\n",
            " 200\n",
            "\n"
          ],
          "name": "stdout"
        }
      ]
    },
    {
      "metadata": {
        "id": "zQ5UvIO3KPJT",
        "colab_type": "text"
      },
      "cell_type": "markdown",
      "source": [
        "Close the File"
      ]
    },
    {
      "metadata": {
        "id": "wDW-hcVB5AU2",
        "colab_type": "code",
        "colab": {}
      },
      "cell_type": "code",
      "source": [
        "file.close()"
      ],
      "execution_count": 0,
      "outputs": []
    }
  ]
}