{
  "nbformat": 4,
  "nbformat_minor": 0,
  "metadata": {
    "colab": {
      "name": "Syneto Internship Antoine VILLAUME",
      "version": "0.3.2",
      "provenance": [],
      "collapsed_sections": [],
      "toc_visible": true,
      "include_colab_link": true
    },
    "kernelspec": {
      "display_name": "Python 3",
      "name": "python3"
    }
  },
  "cells": [
    {
      "cell_type": "markdown",
      "metadata": {
        "id": "view-in-github",
        "colab_type": "text"
      },
      "source": [
        "<a href=\"https://colab.research.google.com/github/GenericError404/Syneto.collab/blob/Testing_branch/Syneto_Internship_Antoine_VILLAUME.ipynb\" target=\"_parent\"><img src=\"https://colab.research.google.com/assets/colab-badge.svg\" alt=\"Open In Colab\"/></a>"
      ]
    },
    {
      "metadata": {
        "cellView": "both",
        "colab_type": "code",
        "id": "xitplqMNk_Hc",
        "outputId": "ed4f60d2-878d-4056-c438-352dac39a112",
        "colab": {
          "height": 420
        }
      },
      "cell_type": "code",
      "source": [
        "#@title Introducing Colaboratory\n",
        "#@markdown This 3-minute video gives an overview of the key features of Colaboratory:\n",
        "from IPython.display import YouTubeVideo\n",
        "YouTubeVideo('inN8seMm7UI', width=600, height=400)"
      ],
      "execution_count": 0,
      "outputs": [
        {
          "output_type": "execute_result",
          "data": {
            "text/html": [
              "\n",
              "        <iframe\n",
              "            width=\"600\"\n",
              "            height=400\"\n",
              "            src=\"https://www.youtube.com/embed/inN8seMm7UI\"\n",
              "            frameborder=\"0\"\n",
              "            allowfullscreen\n",
              "        ></iframe>\n",
              "        "
            ],
            "text/plain": [
              "<IPython.lib.display.YouTubeVideo at 0x7f956e9dda50>"
            ]
          },
          "metadata": {
            "tags": []
          },
          "execution_count": 0
        }
      ]
    },
    {
      "metadata": {
        "id": "cPrRfCJ7Jv5f",
        "colab_type": "text"
      },
      "cell_type": "markdown",
      "source": [
        "Authenticate"
      ]
    },
    {
      "metadata": {
        "id": "hz3jUH3o0Bcs",
        "colab_type": "code",
        "colab": {}
      },
      "cell_type": "code",
      "source": [
        "#project id (google cloud storage)\n",
        "project_id='mineral-oxide-237010'\n",
        "\n",
        "# Authenticate to GCS.\n",
        "from google.colab import auth\n",
        "from googleapiclient.http import MediaFileUpload\n",
        "\n",
        "auth.authenticate_user()"
      ],
      "execution_count": 0,
      "outputs": []
    },
    {
      "metadata": {
        "id": "HAUIw7lwJ5JP",
        "colab_type": "text"
      },
      "cell_type": "markdown",
      "source": [
        "Import into Google Cloud Storage"
      ]
    },
    {
      "metadata": {
        "id": "-Lxm6AXFyMkJ",
        "colab_type": "code",
        "outputId": "56df5729-29a7-4db7-bbf5-6b1939c42407",
        "colab": {
          "base_uri": "https://localhost:8080/",
          "height": 187
        }
      },
      "cell_type": "code",
      "source": [
        "\n",
        "%%bash\n",
        "gsutil cp gs://synth_data_bucket/*.csv.gw ./\n",
        "ls -la\n"
      ],
      "execution_count": 10,
      "outputs": [
        {
          "output_type": "stream",
          "text": [
            "total 32\n",
            "drwxr-xr-x 1 root root 4096 Apr 10 13:50 .\n",
            "drwxr-xr-x 1 root root 4096 Apr 10 13:34 ..\n",
            "-rw-r--r-- 1 root root   20 Apr 10 13:50 2019-04--hh-mm.csv.gw\n",
            "-rw-r--r-- 1 root root 2501 Apr 10 13:36 adc.json\n",
            "drwxr-xr-x 1 root root 4096 Apr 10 13:36 .config\n",
            "drwxr-xr-x 1 root root 4096 Apr  4 20:20 sample_data\n"
          ],
          "name": "stdout"
        },
        {
          "output_type": "stream",
          "text": [
            "Copying gs://synth_data_bucket/2019-04--hh-mm.csv.gw...\n",
            "/ [0 files][    0.0 B/   20.0 B]                                                \r/ [1 files][   20.0 B/   20.0 B]                                                \r\n",
            "Operation completed over 1 objects/20.0 B.                                       \n"
          ],
          "name": "stderr"
        }
      ]
    },
    {
      "metadata": {
        "id": "cPo7wUVVKAVl",
        "colab_type": "text"
      },
      "cell_type": "markdown",
      "source": [
        "Testing file"
      ]
    },
    {
      "metadata": {
        "colab_type": "code",
        "id": "gJr_9dXGpJ05",
        "outputId": "46e6e280-64fa-4704-b9af-4f612ffafd2f",
        "colab": {
          "base_uri": "https://localhost:8080/",
          "height": 442
        }
      },
      "cell_type": "code",
      "source": [
        "import os\n",
        "research = input()\n",
        "for nameFile in os.listdir('./'):\n",
        "  colId=[-1]\n",
        "  ligne='x'\n",
        "  index=0\n",
        "  if '.csv' in nameFile:\n",
        "    file=open(nameFile, 'r')\n",
        "    print(nameFile)\n",
        "    for ligne in file.readlines():\n",
        "      ligne= ligne.split(',')\n",
        "      for i in ligne:\n",
        "        i = i.replace(' ','')\n",
        "        i = i.replace('\\n','')\n",
        "        if i==research:\n",
        "          colId[0]=index\n",
        "        index = index+1\n",
        "      if colId[0] > -1:\n",
        "        print(ligne[colId[0]])     \n",
        "    file.close()\n",
        "    if colId[0] <= -1:\n",
        "      print(\"there is no column like'\", research,\"\")\n",
        "    print('--------------')\n",
        "  \n"
      ],
      "execution_count": 0,
      "outputs": [
        {
          "output_type": "stream",
          "text": [
            "amount\n",
            "accounts_22.csv\n",
            " amount\n",
            "\n",
            " 100\n",
            "\n",
            " 200\n",
            "\n",
            "--------------\n",
            "accounts_1.csv\n",
            " amount\n",
            "\n",
            " 100\n",
            "\n",
            " 200\n",
            "\n",
            "--------------\n",
            "accounts_3.csv\n",
            " amount\n",
            "\n",
            " 100\n",
            "\n",
            " 200\n",
            "\n",
            "--------------\n"
          ],
          "name": "stdout"
        }
      ]
    },
    {
      "metadata": {
        "id": "IDkvd5kCKD9I",
        "colab_type": "text"
      },
      "cell_type": "markdown",
      "source": [
        "Display a column"
      ]
    },
    {
      "metadata": {
        "id": "zQ5UvIO3KPJT",
        "colab_type": "text"
      },
      "cell_type": "markdown",
      "source": [
        "Close the File"
      ]
    },
    {
      "metadata": {
        "id": "wDW-hcVB5AU2",
        "colab_type": "code",
        "colab": {}
      },
      "cell_type": "code",
      "source": [
        ""
      ],
      "execution_count": 0,
      "outputs": []
    }
  ]
}