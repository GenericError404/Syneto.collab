{
  "nbformat": 4,
  "nbformat_minor": 0,
  "metadata": {
    "colab": {
      "name": "Syneto Internship Antoine VILLAUME",
      "version": "0.3.2",
      "provenance": [],
      "collapsed_sections": [],
      "toc_visible": true,
      "include_colab_link": true
    },
    "kernelspec": {
      "display_name": "Python 3",
      "name": "python3"
    }
  },
  "cells": [
    {
      "cell_type": "markdown",
      "metadata": {
        "id": "view-in-github",
        "colab_type": "text"
      },
      "source": [
        "<a href=\"https://colab.research.google.com/github/GenericError404/Syneto.collab/blob/Testing_branch/Syneto_Internship_Antoine_VILLAUME.ipynb\" target=\"_parent\"><img src=\"https://colab.research.google.com/assets/colab-badge.svg\" alt=\"Open In Colab\"/></a>"
      ]
    },
    {
      "metadata": {
        "cellView": "both",
        "colab_type": "code",
        "id": "xitplqMNk_Hc",
        "outputId": "ed4f60d2-878d-4056-c438-352dac39a112",
        "colab": {
          "height": 420
        }
      },
      "cell_type": "code",
      "source": [
        "#@title Introducing Colaboratory\n",
        "#@markdown This 3-minute video gives an overview of the key features of Colaboratory:\n",
        "from IPython.display import YouTubeVideo\n",
        "YouTubeVideo('inN8seMm7UI', width=600, height=400)"
      ],
      "execution_count": 0,
      "outputs": [
        {
          "output_type": "execute_result",
          "data": {
            "text/html": [
              "\n",
              "        <iframe\n",
              "            width=\"600\"\n",
              "            height=400\"\n",
              "            src=\"https://www.youtube.com/embed/inN8seMm7UI\"\n",
              "            frameborder=\"0\"\n",
              "            allowfullscreen\n",
              "        ></iframe>\n",
              "        "
            ],
            "text/plain": [
              "<IPython.lib.display.YouTubeVideo at 0x7f956e9dda50>"
            ]
          },
          "metadata": {
            "tags": []
          },
          "execution_count": 0
        }
      ]
    },
    {
      "metadata": {
        "id": "cPrRfCJ7Jv5f",
        "colab_type": "text"
      },
      "cell_type": "markdown",
      "source": [
        "Authenticate"
      ]
    },
    {
      "metadata": {
        "id": "hz3jUH3o0Bcs",
        "colab_type": "code",
        "colab": {}
      },
      "cell_type": "code",
      "source": [
        "#project id (google cloud storage)\n",
        "project_id='mineral-oxide-237010'\n",
        "\n",
        "# Authenticate to GCS.\n",
        "from google.colab import auth\n",
        "from googleapiclient.http import MediaFileUpload\n",
        "\n",
        "auth.authenticate_user()"
      ],
      "execution_count": 0,
      "outputs": []
    },
    {
      "metadata": {
        "id": "HAUIw7lwJ5JP",
        "colab_type": "text"
      },
      "cell_type": "markdown",
      "source": [
        "Import into Google Cloud Storage"
      ]
    },
    {
      "metadata": {
        "id": "-Lxm6AXFyMkJ",
        "colab_type": "code",
        "outputId": "763a5877-752f-4f7b-80dd-8afa0eece359",
        "colab": {
          "base_uri": "https://localhost:8080/",
          "height": 901
        }
      },
      "cell_type": "code",
      "source": [
        "\n",
        "%%bash\n",
        "gsutil -m cp gs://synth_data_bucket/*.csv.gz ./\n",
        "ls -la\n"
      ],
      "execution_count": 0,
      "outputs": [
        {
          "output_type": "stream",
          "text": [
            "total 13672\n",
            "drwxr-xr-x 1 root root    4096 Apr 11 11:40 .\n",
            "drwxr-xr-x 1 root root    4096 Apr 11 07:45 ..\n",
            "-rw-r--r-- 1 root root 2312732 Apr 11 08:45 2019-04-11-11:44:51.699908.csv\n",
            "-rw-r--r-- 1 root root  116386 Apr 11 11:40 2019-04-11-11:44:51.699908.csv.gz\n",
            "-rw-r--r-- 1 root root 2318745 Apr 11 08:48 2019-04-11-11:45:25.646680.csv\n",
            "-rw-r--r-- 1 root root  117462 Apr 11 11:40 2019-04-11-11:45:25.646680.csv.gz\n",
            "-rw-r--r-- 1 root root 2318685 Apr 11 08:48 2019-04-11-11:45:59.861814.csv\n",
            "-rw-r--r-- 1 root root  116327 Apr 11 11:40 2019-04-11-11:45:59.861814.csv.gz\n",
            "-rw-r--r-- 1 root root 2318126 Apr 11 08:48 2019-04-11-11:46:34.440894.csv\n",
            "-rw-r--r-- 1 root root  116968 Apr 11 11:40 2019-04-11-11:46:34.440894.csv.gz\n",
            "-rw-r--r-- 1 root root 2318580 Apr 11 08:48 2019-04-11-11:47:09.178816.csv\n",
            "-rw-r--r-- 1 root root  116650 Apr 11 11:40 2019-04-11-11:47:09.178816.csv.gz\n",
            "-rw-r--r-- 1 root root  114808 Apr 11 11:40 2019-04-11-11:47:44.076051.csv.gz\n",
            "-rw-r--r-- 1 root root  117282 Apr 11 11:40 2019-04-11-11:48:13.665914.csv.gz\n",
            "-rw-r--r-- 1 root root  115719 Apr 11 11:40 2019-04-11-11:48:48.360252.csv.gz\n",
            "-rw-r--r-- 1 root root  117113 Apr 11 11:40 2019-04-11-11:49:23.619726.csv.gz\n",
            "-rw-r--r-- 1 root root  117204 Apr 11 11:40 2019-04-11-11:49:58.421784.csv.gz\n",
            "-rw-r--r-- 1 root root  115718 Apr 11 11:40 2019-04-11-11:50:33.120779.csv.gz\n",
            "-rw-r--r-- 1 root root  115837 Apr 11 11:40 2019-04-11-11:51:08.151273.csv.gz\n",
            "-rw-r--r-- 1 root root  116667 Apr 11 11:40 2019-04-11-11:51:37.045910.csv.gz\n",
            "-rw-r--r-- 1 root root  115657 Apr 11 11:40 2019-04-11-11:52:11.605777.csv.gz\n",
            "-rw-r--r-- 1 root root  116231 Apr 11 11:40 2019-04-11-11:52:41.734966.csv.gz\n",
            "-rw-r--r-- 1 root root  116659 Apr 11 11:40 2019-04-11-11:53:11.194999.csv.gz\n",
            "-rw-r--r-- 1 root root  115805 Apr 11 11:40 2019-04-11-11:53:40.757361.csv.gz\n",
            "-rw-r--r-- 1 root root  116799 Apr 11 11:40 2019-04-11-11:54:09.946197.csv.gz\n",
            "-rw-r--r-- 1 root root  116074 Apr 11 11:40 2019-04-11-11:54:44.562522.csv.gz\n",
            "-rw-r--r-- 1 root root  116436 Apr 11 11:40 2019-04-11-11:55:19.200225.csv.gz\n",
            "drwxr-xr-x 1 root root    4096 Apr 11 07:47 .config\n",
            "drwxr-xr-x 1 root root    4096 Apr  4 20:20 sample_data\n"
          ],
          "name": "stdout"
        },
        {
          "output_type": "stream",
          "text": [
            "Copying gs://synth_data_bucket/2019-04-11-11:45:59.861814.csv.gz...\n",
            "Copying gs://synth_data_bucket/2019-04-11-11:45:25.646680.csv.gz...\n",
            "/ [0/20 files][    0.0 B/  2.2 MiB]   0% Done                                   \r/ [0/20 files][    0.0 B/  2.2 MiB]   0% Done                                   \rCopying gs://synth_data_bucket/2019-04-11-11:46:34.440894.csv.gz...\n",
            "/ [0/20 files][    0.0 B/  2.2 MiB]   0% Done                                   \rCopying gs://synth_data_bucket/2019-04-11-11:44:51.699908.csv.gz...\n",
            "/ [0/20 files][    0.0 B/  2.2 MiB]   0% Done                                   \rCopying gs://synth_data_bucket/2019-04-11-11:47:09.178816.csv.gz...\n",
            "/ [0/20 files][    0.0 B/  2.2 MiB]   0% Done                                   \rCopying gs://synth_data_bucket/2019-04-11-11:47:44.076051.csv.gz...\n",
            "/ [0/20 files][    0.0 B/  2.2 MiB]   0% Done                                   \rCopying gs://synth_data_bucket/2019-04-11-11:49:58.421784.csv.gz...\n",
            "/ [0/20 files][    0.0 B/  2.2 MiB]   0% Done                                   \rCopying gs://synth_data_bucket/2019-04-11-11:49:23.619726.csv.gz...\n",
            "/ [0/20 files][    0.0 B/  2.2 MiB]   0% Done                                   \rCopying gs://synth_data_bucket/2019-04-11-11:48:48.360252.csv.gz...\n",
            "/ [0/20 files][    0.0 B/  2.2 MiB]   0% Done                                   \rCopying gs://synth_data_bucket/2019-04-11-11:48:13.665914.csv.gz...\n",
            "/ [0/20 files][    0.0 B/  2.2 MiB]   0% Done                                   \rCopying gs://synth_data_bucket/2019-04-11-11:50:33.120779.csv.gz...\n",
            "/ [1/20 files][114.2 KiB/  2.2 MiB]   5% Done                                   \r/ [1/20 files][114.2 KiB/  2.2 MiB]   5% Done                                   \r/ [2/20 files][228.9 KiB/  2.2 MiB]  10% Done                                   \rCopying gs://synth_data_bucket/2019-04-11-11:51:08.151273.csv.gz...\n",
            "/ [2/20 files][228.9 KiB/  2.2 MiB]  10% Done                                   \r/ [3/20 files][456.5 KiB/  2.2 MiB]  20% Done                                   \r/ [4/20 files][456.5 KiB/  2.2 MiB]  20% Done                                   \rCopying gs://synth_data_bucket/2019-04-11-11:51:37.045910.csv.gz...\n",
            "/ [4/20 files][570.1 KiB/  2.2 MiB]  25% Done                                   \rCopying gs://synth_data_bucket/2019-04-11-11:52:11.605777.csv.gz...\n",
            "/ [5/20 files][682.2 KiB/  2.2 MiB]  30% Done                                   \r/ [5/20 files][682.2 KiB/  2.2 MiB]  30% Done                                   \r/ [6/20 files][682.2 KiB/  2.2 MiB]  30% Done                                   \rCopying gs://synth_data_bucket/2019-04-11-11:52:41.734966.csv.gz...\n",
            "Copying gs://synth_data_bucket/2019-04-11-11:53:11.194999.csv.gz...\n",
            "/ [6/20 files][682.2 KiB/  2.2 MiB]  30% Done                                   \r/ [6/20 files][682.2 KiB/  2.2 MiB]  30% Done                                   \rCopying gs://synth_data_bucket/2019-04-11-11:53:40.757361.csv.gz...\n",
            "/ [7/20 files][796.7 KiB/  2.2 MiB]  35% Done                                   \r/ [7/20 files][796.7 KiB/  2.2 MiB]  35% Done                                   \r/ [8/20 files][911.1 KiB/  2.2 MiB]  40% Done                                   \r/ [9/20 files][  1.0 MiB/  2.2 MiB]  45% Done                                   \rCopying gs://synth_data_bucket/2019-04-11-11:54:09.946197.csv.gz...\n",
            "/ [9/20 files][  1.0 MiB/  2.2 MiB]  45% Done                                   \rCopying gs://synth_data_bucket/2019-04-11-11:54:44.562522.csv.gz...\n",
            "/ [9/20 files][  1.0 MiB/  2.2 MiB]  45% Done                                   \rCopying gs://synth_data_bucket/2019-04-11-11:55:19.200225.csv.gz...\n",
            "/ [10/20 files][  1.1 MiB/  2.2 MiB]  50% Done                                  \r/ [10/20 files][  1.1 MiB/  2.2 MiB]  50% Done                                  \r/ [11/20 files][  1.2 MiB/  2.2 MiB]  55% Done                                  \r/ [12/20 files][  1.3 MiB/  2.2 MiB]  60% Done                                  \r/ [13/20 files][  1.6 MiB/  2.2 MiB]  70% Done                                  \r/ [14/20 files][  1.6 MiB/  2.2 MiB]  70% Done                                  \r/ [15/20 files][  1.7 MiB/  2.2 MiB]  75% Done                                  \r/ [16/20 files][  1.8 MiB/  2.2 MiB]  80% Done                                  \r/ [17/20 files][  2.0 MiB/  2.2 MiB]  89% Done                                  \r/ [18/20 files][  2.0 MiB/  2.2 MiB]  89% Done                                  \r/ [19/20 files][  2.1 MiB/  2.2 MiB]  94% Done                                  \r/ [20/20 files][  2.2 MiB/  2.2 MiB] 100% Done                                  \r\n",
            "Operation completed over 20 objects/2.2 MiB.                                     \n"
          ],
          "name": "stderr"
        }
      ]
    },
    {
      "metadata": {
        "id": "GXmmQE2ZVzDZ",
        "colab_type": "text"
      },
      "cell_type": "markdown",
      "source": [
        "Unzip file"
      ]
    },
    {
      "metadata": {
        "id": "Yy2rGRgKVyOJ",
        "colab_type": "code",
        "outputId": "8c98d6c0-b83f-4eec-82d9-de9b554dd9a7",
        "colab": {
          "base_uri": "https://localhost:8080/",
          "height": 527
        }
      },
      "cell_type": "code",
      "source": [
        "%%bash\n",
        "gzip -d ./*.gz\n",
        "rm -f ./*.gz\n",
        "ls -la"
      ],
      "execution_count": 0,
      "outputs": [
        {
          "output_type": "stream",
          "text": [
            "total 45308\n",
            "drwxr-xr-x 1 root root    4096 Apr 11 11:40 .\n",
            "drwxr-xr-x 1 root root    4096 Apr 11 07:45 ..\n",
            "-rw-r--r-- 1 root root 2312732 Apr 11 08:45 2019-04-11-11:44:51.699908.csv\n",
            "-rw-r--r-- 1 root root 2318745 Apr 11 08:48 2019-04-11-11:45:25.646680.csv\n",
            "-rw-r--r-- 1 root root 2318685 Apr 11 08:48 2019-04-11-11:45:59.861814.csv\n",
            "-rw-r--r-- 1 root root 2318126 Apr 11 08:48 2019-04-11-11:46:34.440894.csv\n",
            "-rw-r--r-- 1 root root 2318580 Apr 11 08:48 2019-04-11-11:47:09.178816.csv\n",
            "-rw-r--r-- 1 root root 2319391 Apr 11 11:40 2019-04-11-11:47:44.076051.csv\n",
            "-rw-r--r-- 1 root root 2318262 Apr 11 11:40 2019-04-11-11:48:13.665914.csv\n",
            "-rw-r--r-- 1 root root 2319113 Apr 11 11:40 2019-04-11-11:48:48.360252.csv\n",
            "-rw-r--r-- 1 root root 2317820 Apr 11 11:40 2019-04-11-11:49:23.619726.csv\n",
            "-rw-r--r-- 1 root root 2318195 Apr 11 11:40 2019-04-11-11:49:58.421784.csv\n",
            "-rw-r--r-- 1 root root 2318660 Apr 11 11:40 2019-04-11-11:50:33.120779.csv\n",
            "-rw-r--r-- 1 root root 2318486 Apr 11 11:40 2019-04-11-11:51:08.151273.csv\n",
            "-rw-r--r-- 1 root root 2318158 Apr 11 11:40 2019-04-11-11:51:37.045910.csv\n",
            "-rw-r--r-- 1 root root 2318587 Apr 11 11:40 2019-04-11-11:52:11.605777.csv\n",
            "-rw-r--r-- 1 root root 2312586 Apr 11 11:40 2019-04-11-11:52:41.734966.csv\n",
            "-rw-r--r-- 1 root root 2312794 Apr 11 11:40 2019-04-11-11:53:11.194999.csv\n",
            "-rw-r--r-- 1 root root 2313473 Apr 11 11:40 2019-04-11-11:53:40.757361.csv\n",
            "-rw-r--r-- 1 root root 2312434 Apr 11 11:40 2019-04-11-11:54:09.946197.csv\n",
            "-rw-r--r-- 1 root root 2312584 Apr 11 11:40 2019-04-11-11:54:44.562522.csv\n",
            "-rw-r--r-- 1 root root 2312772 Apr 11 11:40 2019-04-11-11:55:19.200225.csv\n",
            "drwxr-xr-x 1 root root    4096 Apr 11 07:47 .config\n",
            "drwxr-xr-x 1 root root    4096 Apr  4 20:20 sample_data\n"
          ],
          "name": "stdout"
        },
        {
          "output_type": "stream",
          "text": [
            "gzip: ./2019-04-11-11:44:51.699908.csv already exists;\tnot overwritten\n",
            "gzip: ./2019-04-11-11:45:25.646680.csv already exists;\tnot overwritten\n",
            "gzip: ./2019-04-11-11:45:59.861814.csv already exists;\tnot overwritten\n",
            "gzip: ./2019-04-11-11:46:34.440894.csv already exists;\tnot overwritten\n",
            "gzip: ./2019-04-11-11:47:09.178816.csv already exists;\tnot overwritten\n"
          ],
          "name": "stderr"
        }
      ]
    },
    {
      "metadata": {
        "id": "cPo7wUVVKAVl",
        "colab_type": "text"
      },
      "cell_type": "markdown",
      "source": [
        "Testing file"
      ]
    },
    {
      "metadata": {
        "colab_type": "code",
        "id": "gJr_9dXGpJ05",
        "outputId": "6d5c8247-7225-43cd-a3ab-00f2855b900d",
        "colab": {
          "base_uri": "https://localhost:8080/",
          "height": 2754
        }
      },
      "cell_type": "code",
      "source": [
        "import os\n",
        "research = input()\n",
        "research = research.replace(' ','')\n",
        "research = research.replace('\\n','')\n",
        "for nameFile in os.listdir('./'):\n",
        "  colId=[-1]\n",
        "  ligne='x'\n",
        "  index=0\n",
        "  if '.csv' in nameFile:\n",
        "    file=open(nameFile, 'r')\n",
        "    print(nameFile)\n",
        "    ligne = file.readline()\n",
        "    ligne= ligne.split(',')\n",
        "    for i in ligne:\n",
        "      i = i.replace(' ','')\n",
        "      i = i.replace('\\n','')\n",
        "      if i==research:\n",
        "        colId[0]=index\n",
        "      index = index+1\n",
        "    if colId[0] > -1:\n",
        "      for ligne in file.readlines():\n",
        "        print(ligne[colId[0]])   \n",
        "    else:\n",
        "      print(\"there is no column like'\", research,\"\")\n",
        "      \n",
        "    file.close()\n",
        "    print('--------------')\n",
        "  \n"
      ],
      "execution_count": 0,
      "outputs": [
        {
          "output_type": "stream",
          "text": [
            "\"\\\\hyper-a-esxi.demo.syneto.eu\\Vcpu(1:system:2097156:fastslab)\\% Max Limited\"\n",
            "2019-04-11-11:44:51.699908.csv\n",
            "8\n",
            "8\n",
            "8\n",
            "8\n",
            "8\n",
            "8\n",
            "--------------\n",
            "2019-04-11-11:51:08.151273.csv\n",
            "8\n",
            "8\n",
            "8\n",
            "6\n",
            "8\n",
            "8\n",
            "--------------\n",
            "2019-04-11-11:53:40.757361.csv\n",
            ",\n",
            "8\n",
            "4\n",
            "8\n",
            "8\n",
            "8\n",
            "--------------\n",
            "2019-04-11-11:46:34.440894.csv\n",
            "8\n",
            "8\n",
            "8\n",
            "8\n",
            "8\n",
            "8\n",
            "--------------\n",
            "2019-04-11-11:47:44.076051.csv\n",
            "8\n",
            "8\n",
            "8\n",
            "8\n",
            "8\n",
            "2\n",
            "--------------\n",
            "2019-04-11-11:48:48.360252.csv\n",
            "8\n",
            "8\n",
            "8\n",
            "8\n",
            "8\n",
            "8\n",
            "--------------\n",
            "2019-04-11-11:50:33.120779.csv\n",
            "8\n",
            "8\n",
            "8\n",
            "8\n",
            "8\n",
            "8\n",
            "--------------\n",
            "2019-04-11-11:47:09.178816.csv\n",
            "8\n",
            "8\n",
            "8\n",
            "8\n",
            "8\n",
            ",\n",
            "--------------\n",
            "2019-04-11-11:54:09.946197.csv\n",
            "8\n",
            "8\n",
            "8\n",
            "8\n",
            "8\n",
            "8\n",
            "--------------\n",
            "2019-04-11-11:53:11.194999.csv\n",
            "8\n",
            "8\n",
            "8\n",
            "3\n",
            "8\n",
            "8\n",
            "--------------\n",
            "2019-04-11-11:49:23.619726.csv\n",
            "8\n",
            "8\n",
            "8\n",
            "8\n",
            "8\n",
            "8\n",
            "--------------\n",
            "2019-04-11-11:45:59.861814.csv\n",
            "8\n",
            "8\n",
            "8\n",
            "8\n",
            "8\n",
            "8\n",
            "--------------\n",
            "2019-04-11-11:52:11.605777.csv\n",
            "8\n",
            "3\n",
            "8\n",
            "8\n",
            "8\n",
            "8\n",
            "--------------\n",
            "2019-04-11-11:55:19.200225.csv\n",
            "8\n",
            "8\n",
            "8\n",
            "8\n",
            "8\n",
            "8\n",
            "--------------\n",
            "2019-04-11-11:48:13.665914.csv\n",
            "8\n",
            "8\n",
            "8\n",
            "8\n",
            "8\n",
            "8\n",
            "--------------\n",
            "2019-04-11-11:51:37.045910.csv\n",
            "8\n",
            "8\n",
            "8\n",
            "8\n",
            "8\n",
            "8\n",
            "--------------\n",
            "2019-04-11-11:52:41.734966.csv\n",
            "8\n",
            "4\n",
            "8\n",
            "8\n",
            "8\n",
            "8\n",
            "--------------\n",
            "2019-04-11-11:54:44.562522.csv\n",
            "8\n",
            "8\n",
            "8\n",
            "8\n",
            "8\n",
            "8\n",
            "--------------\n",
            "2019-04-11-11:45:25.646680.csv\n",
            ",\n",
            "8\n",
            "8\n",
            "8\n",
            "8\n",
            "8\n",
            "--------------\n",
            "2019-04-11-11:49:58.421784.csv\n",
            ",\n",
            "8\n",
            "8\n",
            "8\n",
            "8\n",
            "8\n",
            "--------------\n"
          ],
          "name": "stdout"
        }
      ]
    },
    {
      "metadata": {
        "id": "ZgKV9OWSK9Yl",
        "colab_type": "code",
        "colab": {}
      },
      "cell_type": "code",
      "source": [
        ""
      ],
      "execution_count": 0,
      "outputs": []
    },
    {
      "metadata": {
        "id": "zQ5UvIO3KPJT",
        "colab_type": "text"
      },
      "cell_type": "markdown",
      "source": [
        "Create a graph for number value only"
      ]
    },
    {
      "metadata": {
        "id": "wDW-hcVB5AU2",
        "colab_type": "code",
        "outputId": "13f8ee40-0620-42e2-8a8d-bb076d260599",
        "colab": {
          "base_uri": "https://localhost:8080/",
          "height": 776
        }
      },
      "cell_type": "code",
      "source": [
        "import matplotlib.pyplot as plt\n",
        "import os\n",
        "research = input()\n",
        "cutresearch = research.replace(' ','')\n",
        "cutresearch = cutresearch.replace('\\n','')\n",
        "result = ''\n",
        "\n",
        "for nameFile in os.listdir('./'):\n",
        "  colId=[-1]\n",
        "  index=0\n",
        "  if '.csv' in nameFile:\n",
        "    file=open(nameFile, 'r')\n",
        "    ligne = file.readline()\n",
        "    ligne = ligne.split(',')\n",
        "    for i in ligne:\n",
        "     \n",
        "      i = i.replace(' ','')\n",
        "      i = i.replace('\\n','')\n",
        "      if i==cutresearch:\n",
        "        colId[0]=index\n",
        "      index = index+1\n",
        "    if colId[0] > -1:\n",
        "      for ligne in file.readlines():\n",
        "        result ='{0},{1}'.format(result,ligne[colId[0]])    \n",
        "    else:\n",
        "      print(\"there is no column like'\", research,\"\")\n",
        "    file.close()\n",
        "research = research.replace('\"','')\n",
        "result = result.replace('{0},'.format(research), '')\n",
        "result = result.split(',')\n",
        "del result[0]\n",
        "print(result)\n",
        "\n",
        "y=0\n",
        "for j in result:\n",
        "  try:\n",
        "    result[y] = float(j)\n",
        "    y = y + 1\n",
        "  except:\n",
        "    print('Something went wrong with a value')\n",
        "    print(j)\n",
        "    result[y] = 0\n",
        "    y = y + 1\n",
        "\n",
        "plt.plot(result)\n",
        "plt.ylabel(research)\n",
        "plt.show()\n",
        "print(result)"
      ],
      "execution_count": 20,
      "outputs": [
        {
          "output_type": "stream",
          "text": [
            "\"\\\\hyper-a-esxi.demo.syneto.eu\\Vcpu(1:system:2097156:fastslab)\\% Max Limited\"\n",
            "['8', '8', '8', '8', '8', '8', '8', '8', '8', '6', '8', '8', '', '', '8', '4', '8', '8', '8', '8', '8', '8', '8', '8', '8', '8', '8', '8', '8', '8', '2', '8', '8', '8', '8', '8', '8', '8', '8', '8', '8', '8', '8', '8', '8', '8', '8', '8', '', '', '8', '8', '8', '8', '8', '8', '8', '8', '8', '3', '8', '8', '8', '8', '8', '8', '8', '8', '8', '8', '8', '8', '8', '8', '8', '3', '8', '8', '8', '8', '8', '8', '8', '8', '8', '8', '8', '8', '8', '8', '8', '8', '8', '8', '8', '8', '8', '8', '8', '4', '8', '8', '8', '8', '8', '8', '8', '8', '8', '8', '', '', '8', '8', '8', '8', '8', '', '', '8', '8', '8', '8', '8']\n",
            "Something went wrong with a value\n",
            "\n",
            "Something went wrong with a value\n",
            "\n",
            "Something went wrong with a value\n",
            "\n",
            "Something went wrong with a value\n",
            "\n",
            "Something went wrong with a value\n",
            "\n",
            "Something went wrong with a value\n",
            "\n",
            "Something went wrong with a value\n",
            "\n",
            "Something went wrong with a value\n",
            "\n"
          ],
          "name": "stdout"
        },
        {
          "output_type": "display_data",
          "data": {
            "image/png": "[encoded data removed]",
            "text/plain": [
              "<Figure size 432x288 with 1 Axes>"
            ]
          },
          "metadata": {
            "tags": []
          }
        },
        {
          "output_type": "stream",
          "text": [
            "[8.0, 8.0, 8.0, 8.0, 8.0, 8.0, 8.0, 8.0, 8.0, 6.0, 8.0, 8.0, 0, 0, 8.0, 4.0, 8.0, 8.0, 8.0, 8.0, 8.0, 8.0, 8.0, 8.0, 8.0, 8.0, 8.0, 8.0, 8.0, 8.0, 2.0, 8.0, 8.0, 8.0, 8.0, 8.0, 8.0, 8.0, 8.0, 8.0, 8.0, 8.0, 8.0, 8.0, 8.0, 8.0, 8.0, 8.0, 0, 0, 8.0, 8.0, 8.0, 8.0, 8.0, 8.0, 8.0, 8.0, 8.0, 3.0, 8.0, 8.0, 8.0, 8.0, 8.0, 8.0, 8.0, 8.0, 8.0, 8.0, 8.0, 8.0, 8.0, 8.0, 8.0, 3.0, 8.0, 8.0, 8.0, 8.0, 8.0, 8.0, 8.0, 8.0, 8.0, 8.0, 8.0, 8.0, 8.0, 8.0, 8.0, 8.0, 8.0, 8.0, 8.0, 8.0, 8.0, 8.0, 8.0, 4.0, 8.0, 8.0, 8.0, 8.0, 8.0, 8.0, 8.0, 8.0, 8.0, 8.0, 0, 0, 8.0, 8.0, 8.0, 8.0, 8.0, 0, 0, 8.0, 8.0, 8.0, 8.0, 8.0]\n"
          ],
          "name": "stdout"
        }
      ]
    },
    {
      "metadata": {
        "id": "HrgpObiirb5Y",
        "colab_type": "code",
        "colab": {}
      },
      "cell_type": "code",
      "source": [
        ""
      ],
      "execution_count": 0,
      "outputs": []
    }
  ]
}