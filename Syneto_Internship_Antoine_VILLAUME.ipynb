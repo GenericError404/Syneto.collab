{
  "nbformat": 4,
  "nbformat_minor": 0,
  "metadata": {
    "colab": {
      "name": "Syneto Internship Antoine VILLAUME",
      "version": "0.3.2",
      "provenance": [],
      "collapsed_sections": [],
      "toc_visible": true,
      "include_colab_link": true
    },
    "kernelspec": {
      "display_name": "Python 3",
      "name": "python3"
    }
  },
  "cells": [
    {
      "cell_type": "markdown",
      "metadata": {
        "id": "view-in-github",
        "colab_type": "text"
      },
      "source": [
        "<a href=\"https://colab.research.google.com/github/GenericError404/Syneto.collab/blob/master/Syneto_Internship_Antoine_VILLAUME.ipynb\" target=\"_parent\"><img src=\"https://colab.research.google.com/assets/colab-badge.svg\" alt=\"Open In Colab\"/></a>"
      ]
    },
    {
      "metadata": {
        "id": "cPrRfCJ7Jv5f",
        "colab_type": "text"
      },
      "cell_type": "markdown",
      "source": [
        "Authenticate"
      ]
    },
    {
      "metadata": {
        "id": "hz3jUH3o0Bcs",
        "colab_type": "code",
        "colab": {}
      },
      "cell_type": "code",
      "source": [
        "#project id (google cloud storage)\n",
        "project_id='mineral-oxide-237010'\n",
        "\n",
        "# Authenticate to GCS.\n",
        "from google.colab import auth\n",
        "from googleapiclient.http import MediaFileUpload\n",
        "\n",
        "auth.authenticate_user()"
      ],
      "execution_count": 0,
      "outputs": []
    },
    {
      "metadata": {
        "id": "HAUIw7lwJ5JP",
        "colab_type": "text"
      },
      "cell_type": "markdown",
      "source": [
        "Import into Google Cloud Storage"
      ]
    },
    {
      "metadata": {
        "id": "-Lxm6AXFyMkJ",
        "colab_type": "code",
        "outputId": "6d27e2c4-6cc2-45a2-8ffb-e59f7bb86271",
        "colab": {
          "base_uri": "https://localhost:8080/",
          "height": 391
        }
      },
      "cell_type": "code",
      "source": [
        "\n",
        "%%bash\n",
        "gsutil -m cp gs://synth_data_bucket/*.csv.gz ./\n",
        "ls -la\n"
      ],
      "execution_count": 8,
      "outputs": [
        {
          "output_type": "stream",
          "text": [
            "total 880\n",
            "drwxr-xr-x 1 root root   4096 Apr 12 08:23 .\n",
            "drwxr-xr-x 1 root root   4096 Apr 12 08:13 ..\n",
            "-rw-r--r-- 1 root root 121985 Apr 12 08:23 2019-04-12-11:19:47.419198.csv.gz\n",
            "-rw-r--r-- 1 root root 119324 Apr 12 08:23 2019-04-12-11:20:22.233110.csv.gz\n",
            "-rw-r--r-- 1 root root 120955 Apr 12 08:23 2019-04-12-11:20:51.809322.csv.gz\n",
            "-rw-r--r-- 1 root root 123568 Apr 12 08:23 2019-04-12-11:21:21.079539.csv.gz\n",
            "-rw-r--r-- 1 root root 123029 Apr 12 08:23 2019-04-12-11:21:55.901476.csv.gz\n",
            "-rw-r--r-- 1 root root 121644 Apr 12 08:23 2019-04-12-11:22:30.636404.csv.gz\n",
            "-rw-r--r-- 1 root root 124068 Apr 12 08:23 2019-04-12-11:23:00.182341.csv.gz\n",
            "-rw-r--r-- 1 root root   2543 Apr 12 08:19 adc.json\n",
            "drwxr-xr-x 1 root root   4096 Apr 12 08:19 .config\n",
            "drwxr-xr-x 1 root root   4096 Apr  4 20:20 sample_data\n"
          ],
          "name": "stdout"
        },
        {
          "output_type": "stream",
          "text": [
            "Copying gs://synth_data_bucket/2019-04-12-11:22:30.636404.csv.gz...\n",
            "Copying gs://synth_data_bucket/2019-04-12-11:19:47.419198.csv.gz...\n",
            "Copying gs://synth_data_bucket/2019-04-12-11:23:00.182341.csv.gz...\n",
            "Copying gs://synth_data_bucket/2019-04-12-11:20:51.809322.csv.gz...\n",
            "Copying gs://synth_data_bucket/2019-04-12-11:20:22.233110.csv.gz...\n",
            "Copying gs://synth_data_bucket/2019-04-12-11:21:21.079539.csv.gz...\n",
            "Copying gs://synth_data_bucket/2019-04-12-11:21:55.901476.csv.gz...\n",
            "/ [0/7 files][    0.0 B/834.5 KiB]   0% Done                                    \r/ [0/7 files][    0.0 B/834.5 KiB]   0% Done                                    \r/ [0/7 files][    0.0 B/834.5 KiB]   0% Done                                    \r/ [0/7 files][    0.0 B/834.5 KiB]   0% Done                                    \r/ [0/7 files][    0.0 B/834.5 KiB]   0% Done                                    \r/ [0/7 files][    0.0 B/834.5 KiB]   0% Done                                    \r/ [0/7 files][    0.0 B/834.5 KiB]   0% Done                                    \r/ [1/7 files][120.2 KiB/834.5 KiB]  14% Done                                    \r/ [2/7 files][236.7 KiB/834.5 KiB]  28% Done                                    \r/ [3/7 files][357.8 KiB/834.5 KiB]  42% Done                                    \r/ [4/7 files][476.0 KiB/834.5 KiB]  57% Done                                    \r/ [5/7 files][594.8 KiB/834.5 KiB]  71% Done                                    \r/ [6/7 files][713.9 KiB/834.5 KiB]  85% Done                                    \r/ [7/7 files][834.5 KiB/834.5 KiB] 100% Done                                    \r\n",
            "Operation completed over 7 objects/834.5 KiB.                                    \n"
          ],
          "name": "stderr"
        }
      ]
    },
    {
      "metadata": {
        "id": "GXmmQE2ZVzDZ",
        "colab_type": "text"
      },
      "cell_type": "markdown",
      "source": [
        "Unzip file"
      ]
    },
    {
      "metadata": {
        "id": "Yy2rGRgKVyOJ",
        "colab_type": "code",
        "outputId": "4f28ee8f-703b-4029-f896-217c35840642",
        "colab": {
          "base_uri": "https://localhost:8080/",
          "height": 238
        }
      },
      "cell_type": "code",
      "source": [
        "%%bash\n",
        "gzip -d ./*.gz\n",
        "rm -f ./*.gz\n",
        "ls -la"
      ],
      "execution_count": 9,
      "outputs": [
        {
          "output_type": "stream",
          "text": [
            "total 16424\n",
            "drwxr-xr-x 1 root root    4096 Apr 12 08:23 .\n",
            "drwxr-xr-x 1 root root    4096 Apr 12 08:13 ..\n",
            "-rw-r--r-- 1 root root 2385958 Apr 12 08:23 2019-04-12-11:19:47.419198.csv\n",
            "-rw-r--r-- 1 root root 2386429 Apr 12 08:23 2019-04-12-11:20:22.233110.csv\n",
            "-rw-r--r-- 1 root root 2386609 Apr 12 08:23 2019-04-12-11:20:51.809322.csv\n",
            "-rw-r--r-- 1 root root 2409385 Apr 12 08:23 2019-04-12-11:21:21.079539.csv\n",
            "-rw-r--r-- 1 root root 2408890 Apr 12 08:23 2019-04-12-11:21:55.901476.csv\n",
            "-rw-r--r-- 1 root root 2397789 Apr 12 08:23 2019-04-12-11:22:30.636404.csv\n",
            "-rw-r--r-- 1 root root 2399571 Apr 12 08:23 2019-04-12-11:23:00.182341.csv\n",
            "-rw-r--r-- 1 root root    2543 Apr 12 08:19 adc.json\n",
            "drwxr-xr-x 1 root root    4096 Apr 12 08:19 .config\n",
            "drwxr-xr-x 1 root root    4096 Apr  4 20:20 sample_data\n"
          ],
          "name": "stdout"
        }
      ]
    },
    {
      "metadata": {
        "id": "cPo7wUVVKAVl",
        "colab_type": "text"
      },
      "cell_type": "markdown",
      "source": [
        "Testing file"
      ]
    },
    {
      "metadata": {
        "colab_type": "code",
        "id": "gJr_9dXGpJ05",
        "outputId": "0fa4e5d2-6398-464d-966a-9755b09fc471",
        "colab": {
          "base_uri": "https://localhost:8080/",
          "height": 1224
        }
      },
      "cell_type": "code",
      "source": [
        "import os\n",
        "research = input()\n",
        "for nameFile in os.listdir('./'):\n",
        "  colId = -1\n",
        "  ligne='x'\n",
        "  if '.csv' in nameFile:\n",
        "    file=open(nameFile, 'r')\n",
        "    index=0\n",
        "    print(nameFile)\n",
        "    ligne = file.readline()\n",
        "    ligne = ligne.split(',')\n",
        "    for i in ligne:\n",
        "      if research in i:\n",
        "        print(i)\n",
        "        print(index)\n",
        "        colId = index\n",
        "      index = index + 1\n",
        "    if colId > -1:\n",
        "      for ligne in file.readlines():\n",
        "        ligne = ligne.split(',')\n",
        "        print(ligne[colId])   \n",
        "    else:\n",
        "      print(\"there is no column like'\", research,\"\")\n",
        "      \n",
        "    file.close()\n",
        "    print('--------------')\n",
        "  \n"
      ],
      "execution_count": 26,
      "outputs": [
        {
          "output_type": "stream",
          "text": [
            "\"\\\\hyper-a-esxi.demo.syneto.eu\\PCPU Power State(PCPU 0)\\%T-State T3\"\n",
            "2019-04-12-11:21:21.079539.csv\n",
            "\"\\\\hyper-a-esxi.demo.syneto.eu\\PCPU Power State(PCPU 0)\\%T-State T3\"\n",
            "19217\n",
            "\"0.00\"\n",
            "\"0.00\"\n",
            "\"0.00\"\n",
            "\"0.00\"\n",
            "\"0.00\"\n",
            "\"0.00\"\n",
            "--------------\n",
            "2019-04-12-11:22:30.636404.csv\n",
            "\"\\\\hyper-a-esxi.demo.syneto.eu\\PCPU Power State(PCPU 0)\\%T-State T3\"\n",
            "19149\n",
            "\"0.00\"\n",
            "\"0.00\"\n",
            "\"0.00\"\n",
            "\"0.00\"\n",
            "\"0.00\"\n",
            "\"0.00\"\n",
            "--------------\n",
            "2019-04-12-11:20:51.809322.csv\n",
            "\"\\\\hyper-a-esxi.demo.syneto.eu\\PCPU Power State(PCPU 0)\\%T-State T3\"\n",
            "19021\n",
            "\"0.00\"\n",
            "\"0.00\"\n",
            "\"0.00\"\n",
            "\"0.00\"\n",
            "\"0.00\"\n",
            "\"0.00\"\n",
            "--------------\n",
            "2019-04-12-11:19:47.419198.csv\n",
            "\"\\\\hyper-a-esxi.demo.syneto.eu\\PCPU Power State(PCPU 0)\\%T-State T3\"\n",
            "19021\n",
            "\"0.00\"\n",
            "\"0.00\"\n",
            "\"0.00\"\n",
            "\"0.00\"\n",
            "\"0.00\"\n",
            "\"0.00\"\n",
            "--------------\n",
            "2019-04-12-11:23:00.182341.csv\n",
            "\"\\\\hyper-a-esxi.demo.syneto.eu\\PCPU Power State(PCPU 0)\\%T-State T3\"\n",
            "19149\n",
            "\"0.00\"\n",
            "\"0.00\"\n",
            "\"0.00\"\n",
            "\"0.00\"\n",
            "\"0.00\"\n",
            "\"0.00\"\n",
            "--------------\n",
            "2019-04-12-11:21:55.901476.csv\n",
            "\"\\\\hyper-a-esxi.demo.syneto.eu\\PCPU Power State(PCPU 0)\\%T-State T3\"\n",
            "19217\n",
            "\"0.00\"\n",
            "\"0.00\"\n",
            "\"0.00\"\n",
            "\"0.00\"\n",
            "\"0.00\"\n",
            "\"0.00\"\n",
            "--------------\n",
            "2019-04-12-11:20:22.233110.csv\n",
            "\"\\\\hyper-a-esxi.demo.syneto.eu\\PCPU Power State(PCPU 0)\\%T-State T3\"\n",
            "19021\n",
            "\"0.00\"\n",
            "\"0.00\"\n",
            "\"0.00\"\n",
            "\"0.00\"\n",
            "\"0.00\"\n",
            "\"0.00\"\n",
            "--------------\n"
          ],
          "name": "stdout"
        }
      ]
    },
    {
      "metadata": {
        "id": "ZgKV9OWSK9Yl",
        "colab_type": "code",
        "colab": {}
      },
      "cell_type": "code",
      "source": [
        ""
      ],
      "execution_count": 0,
      "outputs": []
    },
    {
      "metadata": {
        "id": "zQ5UvIO3KPJT",
        "colab_type": "text"
      },
      "cell_type": "markdown",
      "source": [
        "Create a graph for number value only"
      ]
    },
    {
      "metadata": {
        "id": "wDW-hcVB5AU2",
        "colab_type": "code",
        "outputId": "6c59a369-b6a7-4ff7-b963-31c4cf50bbef",
        "colab": {
          "base_uri": "https://localhost:8080/",
          "height": 971
        }
      },
      "cell_type": "code",
      "source": [
        "import matplotlib.pyplot as plt\n",
        "import os\n",
        "research = input()\n",
        "result = ''\n",
        "\n",
        "for nameFile in os.listdir('./'):\n",
        "  colId = -1\n",
        "  if '.csv' in nameFile:\n",
        "    file=open(nameFile, 'r')\n",
        "    index=0\n",
        "    print(nameFile)\n",
        "    ligne = file.readline()\n",
        "    ligne = ligne.split(',')\n",
        "    for i in ligne:\n",
        "      if research in i:\n",
        "        colId=index\n",
        "      index = index+1\n",
        "    if colId > -1:\n",
        "      for ligne in file.readlines():\n",
        "        ligne = ligne.split(',')\n",
        "        result ='{0},{1}'.format(result,ligne[colId])    \n",
        "    else:\n",
        "      print(\"there is no column like'\", research,\"\")\n",
        "    file.close()\n",
        "result = result.split(',')\n",
        "del result[0]\n",
        "\n",
        "y=0\n",
        "for j in result:\n",
        "  try:\n",
        "    result[y] = float(j)\n",
        "  except:\n",
        "    print('Something went wrong with a value')\n",
        "    print(j)\n",
        "    result[y] = 0\n",
        "  y = y + 1\n",
        "\n",
        "plt.plot(result)\n",
        "plt.ylabel(research)\n",
        "plt.show()"
      ],
      "execution_count": 28,
      "outputs": [
        {
          "output_type": "error",
          "ename": "KeyboardInterrupt",
          "evalue": "ignored",
          "traceback": [
            "\u001b[0;31m---------------------------------------------------------------------------\u001b[0m",
            "\u001b[0;31mKeyboardInterrupt\u001b[0m                         Traceback (most recent call last)",
            "\u001b[0;32m/usr/local/lib/python3.6/dist-packages/ipykernel/kernelbase.py\u001b[0m in \u001b[0;36m_input_request\u001b[0;34m(self, prompt, ident, parent, password)\u001b[0m\n\u001b[1;32m    729\u001b[0m             \u001b[0;32mtry\u001b[0m\u001b[0;34m:\u001b[0m\u001b[0;34m\u001b[0m\u001b[0;34m\u001b[0m\u001b[0m\n\u001b[0;32m--> 730\u001b[0;31m                 \u001b[0mident\u001b[0m\u001b[0;34m,\u001b[0m \u001b[0mreply\u001b[0m \u001b[0;34m=\u001b[0m \u001b[0mself\u001b[0m\u001b[0;34m.\u001b[0m\u001b[0msession\u001b[0m\u001b[0;34m.\u001b[0m\u001b[0mrecv\u001b[0m\u001b[0;34m(\u001b[0m\u001b[0mself\u001b[0m\u001b[0;34m.\u001b[0m\u001b[0mstdin_socket\u001b[0m\u001b[0;34m,\u001b[0m \u001b[0;36m0\u001b[0m\u001b[0;34m)\u001b[0m\u001b[0;34m\u001b[0m\u001b[0;34m\u001b[0m\u001b[0m\n\u001b[0m\u001b[1;32m    731\u001b[0m             \u001b[0;32mexcept\u001b[0m \u001b[0mException\u001b[0m\u001b[0;34m:\u001b[0m\u001b[0;34m\u001b[0m\u001b[0;34m\u001b[0m\u001b[0m\n",
            "\u001b[0;32m/usr/local/lib/python3.6/dist-packages/jupyter_client/session.py\u001b[0m in \u001b[0;36mrecv\u001b[0;34m(self, socket, mode, content, copy)\u001b[0m\n\u001b[1;32m    802\u001b[0m         \u001b[0;32mtry\u001b[0m\u001b[0;34m:\u001b[0m\u001b[0;34m\u001b[0m\u001b[0;34m\u001b[0m\u001b[0m\n\u001b[0;32m--> 803\u001b[0;31m             \u001b[0mmsg_list\u001b[0m \u001b[0;34m=\u001b[0m \u001b[0msocket\u001b[0m\u001b[0;34m.\u001b[0m\u001b[0mrecv_multipart\u001b[0m\u001b[0;34m(\u001b[0m\u001b[0mmode\u001b[0m\u001b[0;34m,\u001b[0m \u001b[0mcopy\u001b[0m\u001b[0;34m=\u001b[0m\u001b[0mcopy\u001b[0m\u001b[0;34m)\u001b[0m\u001b[0;34m\u001b[0m\u001b[0;34m\u001b[0m\u001b[0m\n\u001b[0m\u001b[1;32m    804\u001b[0m         \u001b[0;32mexcept\u001b[0m \u001b[0mzmq\u001b[0m\u001b[0;34m.\u001b[0m\u001b[0mZMQError\u001b[0m \u001b[0;32mas\u001b[0m \u001b[0me\u001b[0m\u001b[0;34m:\u001b[0m\u001b[0;34m\u001b[0m\u001b[0;34m\u001b[0m\u001b[0m\n",
            "\u001b[0;32m/usr/local/lib/python3.6/dist-packages/zmq/sugar/socket.py\u001b[0m in \u001b[0;36mrecv_multipart\u001b[0;34m(self, flags, copy, track)\u001b[0m\n\u001b[1;32m    465\u001b[0m         \"\"\"\n\u001b[0;32m--> 466\u001b[0;31m         \u001b[0mparts\u001b[0m \u001b[0;34m=\u001b[0m \u001b[0;34m[\u001b[0m\u001b[0mself\u001b[0m\u001b[0;34m.\u001b[0m\u001b[0mrecv\u001b[0m\u001b[0;34m(\u001b[0m\u001b[0mflags\u001b[0m\u001b[0;34m,\u001b[0m \u001b[0mcopy\u001b[0m\u001b[0;34m=\u001b[0m\u001b[0mcopy\u001b[0m\u001b[0;34m,\u001b[0m \u001b[0mtrack\u001b[0m\u001b[0;34m=\u001b[0m\u001b[0mtrack\u001b[0m\u001b[0;34m)\u001b[0m\u001b[0;34m]\u001b[0m\u001b[0;34m\u001b[0m\u001b[0;34m\u001b[0m\u001b[0m\n\u001b[0m\u001b[1;32m    467\u001b[0m         \u001b[0;31m# have first part already, only loop while more to receive\u001b[0m\u001b[0;34m\u001b[0m\u001b[0;34m\u001b[0m\u001b[0;34m\u001b[0m\u001b[0m\n",
            "\u001b[0;32mzmq/backend/cython/socket.pyx\u001b[0m in \u001b[0;36mzmq.backend.cython.socket.Socket.recv\u001b[0;34m()\u001b[0m\n",
            "\u001b[0;32mzmq/backend/cython/socket.pyx\u001b[0m in \u001b[0;36mzmq.backend.cython.socket.Socket.recv\u001b[0;34m()\u001b[0m\n",
            "\u001b[0;32mzmq/backend/cython/socket.pyx\u001b[0m in \u001b[0;36mzmq.backend.cython.socket._recv_copy\u001b[0;34m()\u001b[0m\n",
            "\u001b[0;32m/usr/local/lib/python3.6/dist-packages/zmq/backend/cython/checkrc.pxd\u001b[0m in \u001b[0;36mzmq.backend.cython.checkrc._check_rc\u001b[0;34m()\u001b[0m\n",
            "\u001b[0;31mKeyboardInterrupt\u001b[0m: ",
            "\nDuring handling of the above exception, another exception occurred:\n",
            "\u001b[0;31mKeyboardInterrupt\u001b[0m                         Traceback (most recent call last)",
            "\u001b[0;32m<ipython-input-28-bda3be79d862>\u001b[0m in \u001b[0;36m<module>\u001b[0;34m()\u001b[0m\n\u001b[1;32m      1\u001b[0m \u001b[0;32mimport\u001b[0m \u001b[0mmatplotlib\u001b[0m\u001b[0;34m.\u001b[0m\u001b[0mpyplot\u001b[0m \u001b[0;32mas\u001b[0m \u001b[0mplt\u001b[0m\u001b[0;34m\u001b[0m\u001b[0;34m\u001b[0m\u001b[0m\n\u001b[1;32m      2\u001b[0m \u001b[0;32mimport\u001b[0m \u001b[0mos\u001b[0m\u001b[0;34m\u001b[0m\u001b[0;34m\u001b[0m\u001b[0m\n\u001b[0;32m----> 3\u001b[0;31m \u001b[0mresearch\u001b[0m \u001b[0;34m=\u001b[0m \u001b[0minput\u001b[0m\u001b[0;34m(\u001b[0m\u001b[0;34m)\u001b[0m\u001b[0;34m\u001b[0m\u001b[0;34m\u001b[0m\u001b[0m\n\u001b[0m\u001b[1;32m      4\u001b[0m \u001b[0mresult\u001b[0m \u001b[0;34m=\u001b[0m \u001b[0;34m''\u001b[0m\u001b[0;34m\u001b[0m\u001b[0;34m\u001b[0m\u001b[0m\n\u001b[1;32m      5\u001b[0m \u001b[0;34m\u001b[0m\u001b[0m\n",
            "\u001b[0;32m/usr/local/lib/python3.6/dist-packages/ipykernel/kernelbase.py\u001b[0m in \u001b[0;36mraw_input\u001b[0;34m(self, prompt)\u001b[0m\n\u001b[1;32m    703\u001b[0m             \u001b[0mself\u001b[0m\u001b[0;34m.\u001b[0m\u001b[0m_parent_ident\u001b[0m\u001b[0;34m,\u001b[0m\u001b[0;34m\u001b[0m\u001b[0;34m\u001b[0m\u001b[0m\n\u001b[1;32m    704\u001b[0m             \u001b[0mself\u001b[0m\u001b[0;34m.\u001b[0m\u001b[0m_parent_header\u001b[0m\u001b[0;34m,\u001b[0m\u001b[0;34m\u001b[0m\u001b[0;34m\u001b[0m\u001b[0m\n\u001b[0;32m--> 705\u001b[0;31m             \u001b[0mpassword\u001b[0m\u001b[0;34m=\u001b[0m\u001b[0;32mFalse\u001b[0m\u001b[0;34m,\u001b[0m\u001b[0;34m\u001b[0m\u001b[0;34m\u001b[0m\u001b[0m\n\u001b[0m\u001b[1;32m    706\u001b[0m         )\n\u001b[1;32m    707\u001b[0m \u001b[0;34m\u001b[0m\u001b[0m\n",
            "\u001b[0;32m/usr/local/lib/python3.6/dist-packages/ipykernel/kernelbase.py\u001b[0m in \u001b[0;36m_input_request\u001b[0;34m(self, prompt, ident, parent, password)\u001b[0m\n\u001b[1;32m    733\u001b[0m             \u001b[0;32mexcept\u001b[0m \u001b[0mKeyboardInterrupt\u001b[0m\u001b[0;34m:\u001b[0m\u001b[0;34m\u001b[0m\u001b[0;34m\u001b[0m\u001b[0m\n\u001b[1;32m    734\u001b[0m                 \u001b[0;31m# re-raise KeyboardInterrupt, to truncate traceback\u001b[0m\u001b[0;34m\u001b[0m\u001b[0;34m\u001b[0m\u001b[0;34m\u001b[0m\u001b[0m\n\u001b[0;32m--> 735\u001b[0;31m                 \u001b[0;32mraise\u001b[0m \u001b[0mKeyboardInterrupt\u001b[0m\u001b[0;34m\u001b[0m\u001b[0;34m\u001b[0m\u001b[0m\n\u001b[0m\u001b[1;32m    736\u001b[0m             \u001b[0;32melse\u001b[0m\u001b[0;34m:\u001b[0m\u001b[0;34m\u001b[0m\u001b[0;34m\u001b[0m\u001b[0m\n\u001b[1;32m    737\u001b[0m                 \u001b[0;32mbreak\u001b[0m\u001b[0;34m\u001b[0m\u001b[0;34m\u001b[0m\u001b[0m\n",
            "\u001b[0;31mKeyboardInterrupt\u001b[0m: "
          ]
        }
      ]
    }
  ]
}